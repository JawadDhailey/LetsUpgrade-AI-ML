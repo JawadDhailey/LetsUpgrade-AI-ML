{
 "cells": [
  {
   "cell_type": "markdown",
   "metadata": {},
   "source": [
    "## Question 1:"
   ]
  },
  {
   "cell_type": "code",
   "execution_count": 1,
   "metadata": {},
   "outputs": [
    {
     "name": "stdout",
     "output_type": "stream",
     "text": [
      "Subtraction of Two complex number: (2+40j)\n"
     ]
    }
   ],
   "source": [
    "# Subtraction of two complex numbers:\n",
    "a = 5+32j\n",
    "b = 3-8j\n",
    "c = a-b\n",
    "print(\"Subtraction of Two complex number:\",c)"
   ]
  },
  {
   "cell_type": "markdown",
   "metadata": {},
   "source": [
    "## Question 2:"
   ]
  },
  {
   "cell_type": "code",
   "execution_count": 3,
   "metadata": {},
   "outputs": [
    {
     "name": "stdout",
     "output_type": "stream",
     "text": [
      "2.0\n"
     ]
    }
   ],
   "source": [
    "# Find fourth root of a number:\n",
    "num = 16.0\n",
    "print(num**(1/4))"
   ]
  },
  {
   "cell_type": "markdown",
   "metadata": {},
   "source": [
    "## Question 3:"
   ]
  },
  {
   "cell_type": "code",
   "execution_count": 4,
   "metadata": {},
   "outputs": [
    {
     "name": "stdout",
     "output_type": "stream",
     "text": [
      "Before swapping value of X = 10 and Y = 50\n",
      "After swapping value of X = 50 and Y = 10\n"
     ]
    }
   ],
   "source": [
    "# Swapping two numbers with help of temp variable:\n",
    "x = 10 \n",
    "y = 50\n",
    "print(\"Before swapping value of X =\",x,\"and Y =\",y)\n",
    "# Swapping with the help of temp variable:\n",
    "temp = x\n",
    "x = y\n",
    "y = temp\n",
    "print(\"After swapping value of X =\",x,\"and Y =\",y)"
   ]
  },
  {
   "cell_type": "markdown",
   "metadata": {},
   "source": [
    "## Question 4:"
   ]
  },
  {
   "cell_type": "code",
   "execution_count": 5,
   "metadata": {},
   "outputs": [
    {
     "name": "stdout",
     "output_type": "stream",
     "text": [
      "Before swapping value of X = 10 and value of Y = 50\n",
      "After swapping value of X = 50 and value of Y = 10\n"
     ]
    }
   ],
   "source": [
    "# Swappping of two numbers without temp variable:\n",
    "x = 10\n",
    "y = 50\n",
    "print(\"Before swapping value of X =\",x,\"and value of Y =\",y)\n",
    "#Swapping without temp variable:\n",
    "x = x+y\n",
    "\n",
    "y = x-y\n",
    "x = x-y\n",
    "print(\"After swapping value of X =\",x,\"and value of Y =\",y)"
   ]
  },
  {
   "cell_type": "markdown",
   "metadata": {},
   "source": [
    "## Question 5:"
   ]
  },
  {
   "cell_type": "code",
   "execution_count": 6,
   "metadata": {},
   "outputs": [
    {
     "name": "stdout",
     "output_type": "stream",
     "text": [
      "Temperature in Celsius: 10.0\n",
      "Temperature is in Kelvin: 283.15\n"
     ]
    }
   ],
   "source": [
    "# 1) Program to convert Farenheit to Celsius:\n",
    "F = 50.0\n",
    "C = (F- 32) * 5/9\n",
    "print(\"Temperature in Celsius:\",C)\n",
    "\n",
    "#2) Program to convert Farenheit to Kelvin:\n",
    "K = C + 273.15\n",
    "print(\"Temperature is in Kelvin:\",K)"
   ]
  },
  {
   "cell_type": "markdown",
   "metadata": {},
   "source": [
    "## Question 6:"
   ]
  },
  {
   "cell_type": "code",
   "execution_count": 8,
   "metadata": {},
   "outputs": [
    {
     "name": "stdout",
     "output_type": "stream",
     "text": [
      "<class 'int'>\n",
      "<class 'float'>\n",
      "<class 'complex'>\n",
      "<class 'str'>\n",
      "\"My name is Jawad Dhailey, \n",
      "              I am a Mechanical Engineer,\n",
      "                     looking for a career transition in Data Science.\n",
      "<class 'list'>\n",
      "<class 'tuple'>\n",
      "<class 'dict'>\n",
      "<class 'bool'>\n",
      "<class 'bool'>\n"
     ]
    }
   ],
   "source": [
    "# Data types in python:\n",
    "\n",
    "#Numbers:\n",
    "#1) Integers:\n",
    "a = 10\n",
    "print(type(a))\n",
    "\n",
    "#2) Floating point:\n",
    "b = 425.785\n",
    "print(type(b))\n",
    "\n",
    "#3) Complex numbers:\n",
    "c = 2+3j\n",
    "print(type(c))\n",
    "\n",
    "# Strings:\n",
    "d = \"Hello world\"\n",
    "print(type(d))\n",
    "print(\"\"\"\"My name is Jawad Dhailey, \n",
    "              I am a Mechanical Engineer,\n",
    "                     looking for a career transition in Data Science.\"\"\")\n",
    "\n",
    "#List:\n",
    "e = [\"Python\",\"AI and ML\",\"Javascript\"]\n",
    "print(type(e))\n",
    "\n",
    "#Tuple:\n",
    "f = (1,0,0)\n",
    "print(type(f))\n",
    "\n",
    "#Dictionary:\n",
    "g = {\"course\": \"AI and ML\",\"Community\":\"LetsUpgrade\"}\n",
    "print(type(g))\n",
    "\n",
    "# Boolean:\n",
    "x = True\n",
    "y = False\n",
    "print(type(x))\n",
    "print(type(y))"
   ]
  },
  {
   "cell_type": "markdown",
   "metadata": {},
   "source": [
    "## Question 7:\n",
    "\n",
    "### Steps to create GitHub profile and upload assignments\n",
    "\n",
    "#### Step 1 : Enter Github website using google.\n",
    "\n",
    "#### Step 2 : Sign up and create your profile using same email address used for LetsUpgrade.\n",
    "\n",
    "#### Step 3 : Click on New for creating a new repository.\n",
    "\n",
    "#### Step 4 : Enter Repository Name : LetsUpgrade - AI-ML and put description as Assignment, select Public and create on repository.\n",
    "\n",
    "#### Step 5 : JawadDhailey/LetsUpgrade-AL-ML...click on upload existing file...Drag and drop your files to repository and click commit changes.\n",
    "\n",
    "#### Step 6: Go to LetsUpgrade Assignment submission form.\n",
    "\n",
    "#### Step 7 : Enter the details: Name,registered email,mobile no,assignment no Day 3...copy Github URL of assignment for the day...before submiiting pls check whether URL is visible in incognito mode .....and finally click submit!!!\n",
    "\n",
    "#### Step 8 : Done.\n"
   ]
  }
 ],
 "metadata": {
  "kernelspec": {
   "display_name": "Python 3",
   "language": "python",
   "name": "python3"
  },
  "language_info": {
   "codemirror_mode": {
    "name": "ipython",
    "version": 3
   },
   "file_extension": ".py",
   "mimetype": "text/x-python",
   "name": "python",
   "nbconvert_exporter": "python",
   "pygments_lexer": "ipython3",
   "version": "3.8.3"
  }
 },
 "nbformat": 4,
 "nbformat_minor": 4
}
