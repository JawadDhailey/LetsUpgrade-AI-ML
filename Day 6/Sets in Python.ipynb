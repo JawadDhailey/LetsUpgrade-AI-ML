{
 "cells": [
  {
   "cell_type": "markdown",
   "metadata": {},
   "source": [
    "## Question 3:\n",
    "\n",
    "### Definition:\n",
    "- Set is basically a data structure consisting of:\n",
    "\n",
    "- Unordered elements\n",
    "\n",
    "- Unique elements: No duplication i.e every element is present only once\n",
    "\n",
    "- Unindexed elements: Values can be of any datatype but not indexed i.e indexing operation like slicing in list cant beperformed\n",
    "\n",
    "### Use:\n",
    "- Sets can be used when the order of data doesnot matter but the only concern is the data elements need to be unique."
   ]
  },
  {
   "cell_type": "markdown",
   "metadata": {},
   "source": [
    "### Creation of sets:\n",
    "- Sets can be created by placing all the elements within the { } curly braces seperated by comma or by set() function."
   ]
  },
  {
   "cell_type": "code",
   "execution_count": 64,
   "metadata": {},
   "outputs": [
    {
     "name": "stdout",
     "output_type": "stream",
     "text": [
      "a= {1, 2, 'abcd', 10.95, 'a'}\n",
      "b= {40, 10, 'cde', 9.99}\n",
      "empty set: set()\n"
     ]
    }
   ],
   "source": [
    "a = {1,2,10.95,\"a\",\"abcd\"}  #values are of different data types.\n",
    "b = set([10,40,9.99,\"cde\"]) # converted list of values into set.\n",
    "print(\"a=\",a)\n",
    "print(\"b=\",b)\n",
    "\n",
    "#Create an empty Sets:\n",
    "c = set()\n",
    "print(\"empty set:\",c)"
   ]
  },
  {
   "cell_type": "markdown",
   "metadata": {},
   "source": [
    "### Methods:\n",
    "1.dir(a)..a=set...it will return all the methods avalibale which you can use along with sets."
   ]
  },
  {
   "cell_type": "code",
   "execution_count": 66,
   "metadata": {},
   "outputs": [
    {
     "name": "stdout",
     "output_type": "stream",
     "text": [
      "original set: {1, 2, 3, 'a', 'def', 99.99}\n",
      "lenght of set: 6\n",
      "elements of a set are:\n",
      "1\n",
      "2\n",
      "3\n",
      "a\n",
      "def\n",
      "99.99\n",
      "add : {1, 2, 3, 'a', 'def', 10, 99.99}\n",
      "update : {1, 2, 3, 'a', 'def', 10, 99.99, '200', 'dumb'}\n",
      "remove : {1, 2, 3, 'a', 'def', 99.99, '200', 'dumb'}\n"
     ]
    },
    {
     "ename": "KeyError",
     "evalue": "250",
     "output_type": "error",
     "traceback": [
      "\u001b[1;31m---------------------------------------------------------------------------\u001b[0m",
      "\u001b[1;31mKeyError\u001b[0m                                  Traceback (most recent call last)",
      "\u001b[1;32m<ipython-input-66-631d1559ef47>\u001b[0m in \u001b[0;36m<module>\u001b[1;34m\u001b[0m\n\u001b[0;32m     28\u001b[0m \u001b[1;33m\u001b[0m\u001b[0m\n\u001b[0;32m     29\u001b[0m \u001b[1;31m# In remove method if you specify value not present in set it will throw error:\u001b[0m\u001b[1;33m\u001b[0m\u001b[1;33m\u001b[0m\u001b[1;33m\u001b[0m\u001b[0m\n\u001b[1;32m---> 30\u001b[1;33m \u001b[0mx\u001b[0m\u001b[1;33m.\u001b[0m\u001b[0mremove\u001b[0m\u001b[1;33m(\u001b[0m\u001b[1;36m250\u001b[0m\u001b[1;33m)\u001b[0m   \u001b[1;31m#250 not present...error.\u001b[0m\u001b[1;33m\u001b[0m\u001b[1;33m\u001b[0m\u001b[0m\n\u001b[0m",
      "\u001b[1;31mKeyError\u001b[0m: 250"
     ]
    }
   ],
   "source": [
    "x = {1,2,3,'a','def',99.99}\n",
    "print(\"original set:\",x)\n",
    "\n",
    "#1.len(): will return the number of elements actuall present in the set.\n",
    "print(\"lenght of set:\",len(x))\n",
    "\n",
    "#2.Acessing elements of a set: we can acess the elements of a set with the help of loop....Indexing cant be performed.\n",
    "print(\"elements of a set are:\")\n",
    "for i in x:\n",
    "    print(i)\n",
    "    \n",
    "#3.Adding elements to a set: we can use add() method or update() method.\n",
    "# add() : allows you to add a single element to your set.\n",
    "# update() : when you want to add more than one element to your set.\n",
    "\n",
    "x.add(10) #passing single value.\n",
    "print(\"add :\",x)\n",
    "\n",
    "x.update([10,\"dumb\",\"200\"]) #passing list of values...here value=10 is passed again but will not be displayed...no duplication allowed.\n",
    "print(\"update :\",x)\n",
    "\n",
    "\n",
    "#4.Removing elements from set: we can use remove(), discard() and pop()\n",
    "# remove() : remove element from the set specified as parameter.\n",
    "\n",
    "x.remove(10)\n",
    "print(\"remove :\",x)\n",
    "\n",
    "# In remove method if you specify value not present in set it will throw error:\n",
    "x.remove(250)   #250 not present...error."
   ]
  },
  {
   "cell_type": "code",
   "execution_count": 68,
   "metadata": {},
   "outputs": [
    {
     "name": "stdout",
     "output_type": "stream",
     "text": [
      "original set: {1, 2, 3, 'abc'}\n",
      "discard : {2, 3, 'abc'}\n",
      "pop : 2\n",
      "output : {3, 'abc'}\n"
     ]
    }
   ],
   "source": [
    "#discard and pop:\n",
    "\n",
    "y= {1,2,3,\"abc\"}\n",
    "print(\"original set:\",y)\n",
    "\n",
    "#dicard(): used when you want to remove an element when you are not sure if it is actually present in the set or not\n",
    "\n",
    "y.discard(1)\n",
    "print(\"discard :\",y)\n",
    "y.discard(10)  # 10 not present in set...no error...main difference between remove and discard.\n",
    "\n",
    "\n",
    "#pop(): used when you want to remove random elemnt.\n",
    "\n",
    "print(\"pop :\",y.pop())\n",
    "print(\"output :\",y)"
   ]
  },
  {
   "cell_type": "markdown",
   "metadata": {},
   "source": [
    "### Union :\n",
    "- Concatenation of two or more sets into a single set\n",
    "- you can perform by pipeline method or union method"
   ]
  },
  {
   "cell_type": "code",
   "execution_count": 70,
   "metadata": {},
   "outputs": [
    {
     "name": "stdout",
     "output_type": "stream",
     "text": [
      "union with pipeline : {1, 2, 3, 3.5, 4, 5, 'def', 'abc'}\n"
     ]
    }
   ],
   "source": [
    "# pipeline method:\n",
    "\n",
    "a = {1,2,3,\"abc\"}\n",
    "b = {3,4,5,3.5,\"def\"}\n",
    "print(\"union with pipeline :\",a|b) # common elements will be printed just once."
   ]
  },
  {
   "cell_type": "code",
   "execution_count": 75,
   "metadata": {},
   "outputs": [
    {
     "name": "stdout",
     "output_type": "stream",
     "text": [
      "union using method : {1, 2, 3, 3.5, 4, 5, 'def', 'abc'}\n"
     ]
    }
   ],
   "source": [
    "# Union method:\n",
    "print(\"union using method :\",a.union(b))"
   ]
  },
  {
   "cell_type": "code",
   "execution_count": 76,
   "metadata": {},
   "outputs": [
    {
     "name": "stdout",
     "output_type": "stream",
     "text": [
      "union of three sets using pipeline : {1, 2, 3, 3.5, 4, 5, 'ghk', 'def', 10, 'abc', 20}\n",
      "union of three sets using union method : {1, 2, 3, 3.5, 4, 5, 'ghk', 'def', 10, 'abc', 20}\n"
     ]
    }
   ],
   "source": [
    "# Union of three sets:\n",
    "a = {1,2,3,\"abc\"}\n",
    "b = {3,4,5,3.5,\"def\"}\n",
    "c = {10,20,5,\"ghk\"}\n",
    "print(\"union of three sets using pipeline :\",a|b|c)\n",
    "print(\"union of three sets using union method :\",a.union(b,c))"
   ]
  },
  {
   "cell_type": "markdown",
   "metadata": {},
   "source": [
    "### Intersecion:\n",
    "- Intersection of two or more sets forms a new set consisting of only the common elements present in those sets.\n",
    "- can be performed using '&' symbol and intersection()"
   ]
  },
  {
   "cell_type": "code",
   "execution_count": 80,
   "metadata": {},
   "outputs": [
    {
     "name": "stdout",
     "output_type": "stream",
     "text": [
      "Intersection with & symbol : {'abc', 2, 5}\n"
     ]
    }
   ],
   "source": [
    "# Using & symbol:\n",
    "d = {1,2,5,10.5,'r','abc'}\n",
    "e = {2,5,25.95,'s','abc'}\n",
    "print(\"Intersection with & symbol :\",d&e)"
   ]
  },
  {
   "cell_type": "code",
   "execution_count": 81,
   "metadata": {},
   "outputs": [
    {
     "name": "stdout",
     "output_type": "stream",
     "text": [
      "Intersection using method : {'abc', 2, 5}\n"
     ]
    }
   ],
   "source": [
    "# intersection():\n",
    "print(\"Intersection using method :\",d.intersection(e))"
   ]
  },
  {
   "cell_type": "code",
   "execution_count": 82,
   "metadata": {},
   "outputs": [
    {
     "name": "stdout",
     "output_type": "stream",
     "text": [
      "Intersection of three sets : {'abc'}\n"
     ]
    }
   ],
   "source": [
    "# Intersection of three sets:\n",
    "d = {1,2,5,10.5,'r','abc'}\n",
    "e = {2,5,25.95,'s','abc'}\n",
    "f = {100,200,'abc'}\n",
    "print(\"Intersection of three sets :\",d.intersection(e,f))"
   ]
  },
  {
   "cell_type": "markdown",
   "metadata": {},
   "source": [
    "### Difference of set:\n",
    "- Difference of sets produce new sets consisting of elements that are present only in one of those sets except the common    elements.\n",
    "- can be performed using '-' symbol or difference()"
   ]
  },
  {
   "cell_type": "code",
   "execution_count": 83,
   "metadata": {},
   "outputs": [
    {
     "name": "stdout",
     "output_type": "stream",
     "text": [
      "difference of set g : {55.55, 30}\n",
      "difference of set h : {45.55, 60}\n"
     ]
    }
   ],
   "source": [
    "# '-' symbol\n",
    "g = {10,20,30,55.55,\"abc\"}\n",
    "h = {10,20,45.55,60,\"abc\"}\n",
    "print(\"difference of set g :\",g-h) #output= new set with all elements present in \"g\" except the common elements.\n",
    "print(\"difference of set h :\",h-g) #output= new set with all elements present in \"h\" except the common elements."
   ]
  },
  {
   "cell_type": "code",
   "execution_count": 84,
   "metadata": {},
   "outputs": [
    {
     "name": "stdout",
     "output_type": "stream",
     "text": [
      "difference : {55.55, 30}\n"
     ]
    }
   ],
   "source": [
    "# Difference:\n",
    "print(\"difference :\",g.difference(h))"
   ]
  },
  {
   "cell_type": "markdown",
   "metadata": {},
   "source": [
    "### Frozen sets:\n",
    "- Frozen set in Python is a set whose values cannot be modified....i.e immutable.\n",
    "- can be created using frozenset() method.\n",
    "- forzensets help to serve as a key in dictionary."
   ]
  },
  {
   "cell_type": "code",
   "execution_count": 85,
   "metadata": {},
   "outputs": [
    {
     "ename": "AttributeError",
     "evalue": "'frozenset' object has no attribute 'add'",
     "output_type": "error",
     "traceback": [
      "\u001b[1;31m---------------------------------------------------------------------------\u001b[0m",
      "\u001b[1;31mAttributeError\u001b[0m                            Traceback (most recent call last)",
      "\u001b[1;32m<ipython-input-85-8baeb3136042>\u001b[0m in \u001b[0;36m<module>\u001b[1;34m\u001b[0m\n\u001b[0;32m      2\u001b[0m \u001b[0mfr\u001b[0m\u001b[1;33m=\u001b[0m\u001b[0mfrozenset\u001b[0m\u001b[1;33m(\u001b[0m\u001b[0mz\u001b[0m\u001b[1;33m)\u001b[0m \u001b[1;31m#created new frozenset() and supplied \"z=set\" as a parameter...\"fr\" variable to store new set.\u001b[0m\u001b[1;33m\u001b[0m\u001b[1;33m\u001b[0m\u001b[0m\n\u001b[0;32m      3\u001b[0m \u001b[1;31m#Adding operation will generate error:\u001b[0m\u001b[1;33m\u001b[0m\u001b[1;33m\u001b[0m\u001b[1;33m\u001b[0m\u001b[0m\n\u001b[1;32m----> 4\u001b[1;33m \u001b[0mfr\u001b[0m\u001b[1;33m.\u001b[0m\u001b[0madd\u001b[0m\u001b[1;33m(\u001b[0m\u001b[1;36m40\u001b[0m\u001b[1;33m)\u001b[0m\u001b[1;33m\u001b[0m\u001b[1;33m\u001b[0m\u001b[0m\n\u001b[0m",
      "\u001b[1;31mAttributeError\u001b[0m: 'frozenset' object has no attribute 'add'"
     ]
    }
   ],
   "source": [
    "z={10,20,30} #existing set\n",
    "fr=frozenset(z) #created new frozenset() and supplied \"z=set\" as a parameter...\"fr\" variable to store new set.\n",
    "#Adding operation will generate error:\n",
    "fr.add(40)"
   ]
  }
 ],
 "metadata": {
  "kernelspec": {
   "display_name": "Python 3",
   "language": "python",
   "name": "python3"
  },
  "language_info": {
   "codemirror_mode": {
    "name": "ipython",
    "version": 3
   },
   "file_extension": ".py",
   "mimetype": "text/x-python",
   "name": "python",
   "nbconvert_exporter": "python",
   "pygments_lexer": "ipython3",
   "version": "3.8.3"
  }
 },
 "nbformat": 4,
 "nbformat_minor": 4
}
