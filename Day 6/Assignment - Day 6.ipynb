{
 "cells": [
  {
   "cell_type": "markdown",
   "metadata": {},
   "source": [
    "## Question 1 :"
   ]
  },
  {
   "cell_type": "code",
   "execution_count": 6,
   "metadata": {},
   "outputs": [
    {
     "name": "stdout",
     "output_type": "stream",
     "text": [
      "Enter email address in the format :username@companyname.com\n",
      "john@google.com\n",
      "Company name : google\n"
     ]
    }
   ],
   "source": [
    "print(\"Enter email address in the format :username@companyname.com\")\n",
    "s = input()\n",
    "\n",
    "pos1 = s.find(\"@\")\n",
    "pos2 = s.find(\".\")\n",
    "print(\"Company name :\",s[(pos1+1):pos2])"
   ]
  },
  {
   "cell_type": "markdown",
   "metadata": {},
   "source": [
    "## Question 2 :"
   ]
  },
  {
   "cell_type": "code",
   "execution_count": 45,
   "metadata": {},
   "outputs": [
    {
     "name": "stdout",
     "output_type": "stream",
     "text": [
      "Please enter words seperated by comma :without,hello,bag,world\n",
      "The sorted words seperated by comma are : bag,hello,without,world\n"
     ]
    }
   ],
   "source": [
    "# Step1 : Taking user input as sequence of words and seperating by comma using split() method.\n",
    "x = input(\"Please enter words seperated by comma :\").split(\",\") #spereator comma \",\"\n",
    "\n",
    "# Step 2: we know that split() returns list....since we have to sort alphabetically....using sort() method for list.\n",
    "x.sort()\n",
    "\n",
    "# Step3 : print output in comma seperated sequence...using join() method to convert list again into string seperated by comma.\n",
    "print(\"The sorted words seperated by comma are :\",\",\".join(x)) #seperator comma \",\""
   ]
  },
  {
   "cell_type": "markdown",
   "metadata": {},
   "source": [
    "## Question 4  :"
   ]
  },
  {
   "cell_type": "code",
   "execution_count": 37,
   "metadata": {},
   "outputs": [
    {
     "name": "stdout",
     "output_type": "stream",
     "text": [
      "Please enter values of the list seperated by space :1 2 4 6 3 7 8\n",
      "List = ['1', '2', '4', '6', '3', '7', '8']\n",
      "missing number: 5\n"
     ]
    }
   ],
   "source": [
    "# Given a list of n-1 numbers ranging from 1 to n, your task is to find the missing number.There are no duplicates\n",
    "\n",
    "#Using XOR method:\n",
    "\n",
    "z=input(\"Please enter values of the list seperated by space :\").split() #converting string into list seperated by space.\n",
    "print(\"List =\",z) # list created but element/values are in string.\n",
    "x,y=0,0\n",
    "for i in range(1,n+1):\n",
    "    x = x^i\n",
    "for i in l:\n",
    "    y = y^int(i)  #typecast into integer because ^ operator supports only integer.\n",
    "print(\"missing number:\",x^y)"
   ]
  },
  {
   "cell_type": "markdown",
   "metadata": {},
   "source": [
    "## Question 5 :"
   ]
  },
  {
   "cell_type": "code",
   "execution_count": 31,
   "metadata": {},
   "outputs": [
    {
     "name": "stdout",
     "output_type": "stream",
     "text": [
      "The original list is :12 24 35 24\n",
      "The list after removing of duplicate values : 12 24 35\n"
     ]
    }
   ],
   "source": [
    "# To remove duplicates from the list:\n",
    "\n",
    "# Step 1 : input from user and converting into list seperated by whitespace with help of split()\n",
    "x = input(\"The original list is :\").split()\n",
    "\n",
    "# Step 2 : Creating empty list\n",
    "l = []\n",
    "\n",
    "# Step 3 : Now we have two list \"listx\" and \"empty listl\"\n",
    "# Traverse through each element of \"listx\"...and checking whether the element of \"listx\" is present in \"listl\".\n",
    "# Sine the listl is empty it will append each element but if the value is already present then it will not append.\n",
    "# Above is acheived by using \"not in\".....membership operator.\n",
    "for i in x:\n",
    "    if i not in l:      \n",
    "        l.append(i)\n",
    "\n",
    "# Step 3 : print new list:l using join() to seperate each element with white space.\n",
    "print(\"The list after removing of duplicate values :\",\" \".join(l))"
   ]
  }
 ],
 "metadata": {
  "kernelspec": {
   "display_name": "Python 3",
   "language": "python",
   "name": "python3"
  },
  "language_info": {
   "codemirror_mode": {
    "name": "ipython",
    "version": 3
   },
   "file_extension": ".py",
   "mimetype": "text/x-python",
   "name": "python",
   "nbconvert_exporter": "python",
   "pygments_lexer": "ipython3",
   "version": "3.8.3"
  }
 },
 "nbformat": 4,
 "nbformat_minor": 4
}
