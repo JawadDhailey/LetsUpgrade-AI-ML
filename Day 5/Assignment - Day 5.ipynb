{
 "cells": [
  {
   "cell_type": "markdown",
   "metadata": {},
   "source": [
    "## Question 1:"
   ]
  },
  {
   "cell_type": "code",
   "execution_count": 3,
   "metadata": {},
   "outputs": [
    {
     "name": "stdout",
     "output_type": "stream",
     "text": [
      "The first 20 non-even prime natural numbers are:\n",
      "3 5 7 11 13 17 19 23 29 31 37 41 43 47 53 59 61 67 71 73 "
     ]
    }
   ],
   "source": [
    "# Program to find first 20 odd prime numbers:\n",
    "\n",
    "count=1            # Initializing count variable\n",
    "print(\"The first 20 non-even prime natural numbers are:\")\n",
    "for i in range(2,101):     # start=2 as we know 1 is not a prime number.\n",
    "    prime=1                # Initializing prime variable.\n",
    "    if count<=20:          # we have to print first 20 number\n",
    "        for j in range(2,i): \n",
    "             if i%j==0:     # conidtion for not prime.\n",
    "                prime=0\n",
    "                break \n",
    "            \n",
    "        if prime==1 and i%2!=0: #condition for prime and odd\n",
    "            print(i,end=\" \")\n",
    "            count=count+1       # keeping count"
   ]
  },
  {
   "cell_type": "markdown",
   "metadata": {},
   "source": [
    "## Question 2:"
   ]
  },
  {
   "cell_type": "code",
   "execution_count": 74,
   "metadata": {},
   "outputs": [
    {
     "name": "stdout",
     "output_type": "stream",
     "text": [
      "Lenght of the string : 13\n",
      "Capitalize : Hello world! \n",
      "Lowercase : hello world! \n",
      "Uppercase : HELLO WORLD! \n",
      "Strip : hello World!\n",
      "Islower : False\n",
      "Isupper : True\n",
      "Swapcase : hello world!\n",
      "Title : My Name Is Jawad Dhailey\n",
      "Count : 3\n",
      "Count with startindex and endindex : 2\n",
      "Endswith : True\n",
      "Replace : She_is_beautiful_and_she_is_a_good_dancer\n",
      "Replace : She was beautiful and she was a good dancer\n",
      "Replace : She was beautiful and she is a good dancer\n",
      "Find : 4\n",
      "Find with start and end index : 25\n",
      "List from string using split : ['Mango', 'Banana', 'Watermelon']\n",
      "List form string using split: ['Football', 'Cricket', 'Tennis']\n",
      "String from list using join metod : apple mango grapes\n",
      "Isalnum : False\n"
     ]
    }
   ],
   "source": [
    "# Built-in string functions:\n",
    "\n",
    "\n",
    "s = \"hello World! \"\n",
    "\n",
    "#1) len() : returns the lenght of the string.\n",
    "print(\"Lenght of the string :\",len(s))\n",
    "\n",
    "#2) capitalize() : converts first character to uppercase.\n",
    "print(\"Capitalize :\",s.capitalize())\n",
    "\n",
    "#3) lower() : returns string in lower case.\n",
    "print(\"Lowercase :\",s.lower())\n",
    "\n",
    "#4) upper() : returns strings in uppercase.\n",
    "print(\"Uppercase :\",s.upper())\n",
    "\n",
    "#5) strip() : removes the whitespaces from the beginning or the end.\n",
    "print(\"Strip :\",s.strip())\n",
    "\n",
    "s1 = \"HELLO WORLD!\"\n",
    "#6) islower() : returns true if all the characters in the string are lowercase.\n",
    "print(\"Islower :\",s1.islower())\n",
    "\n",
    "#7) isupper() : returns true if all the characters in the string are uppercase.\n",
    "print(\"Isupper :\",s1.isupper())\n",
    "\n",
    "#8) swapcase() : lowercase becomes upper and vice-versa.\n",
    "print(\"Swapcase :\",s1.swapcase())\n",
    "\n",
    "s2 = \"my name is jawad dhailey\"\n",
    "#9) title() : converts first character of each word to upper case.\n",
    "print(\"Title :\",s2.title())\n",
    "\n",
    "s3 = \"\"\"johnny johnny yes papa\n",
    "        eating sugar no papa\n",
    "        telling lies no papa\"\"\"\n",
    "#10) count(value,start,end) : Returns the number of times a specified value occurs in the string.\n",
    "print(\"Count :\",s3.count(\"papa\"))\n",
    "\n",
    "print(\"Count with startindex and endindex :\",s3.count(\"johnny\",0,15)) #startindex=0 and endindex=15 (search value betwen SI and EI).\n",
    "\n",
    "#11) endswith() : returns true if the particular string ends with the specified value.\n",
    "print(\"Endswith :\",s3.endswith(\"papa\"))\n",
    "\n",
    "\n",
    "s4 = \"She is beautiful and she is a good dancer\"\n",
    "#12) replace(old,new,count) : returns a string where old value is replaced by the specified new value.\n",
    "\n",
    "print(\"Replace :\",s4.replace(\" \",\"_\")) #replacing space with underscore.\n",
    "\n",
    "print(\"Replace :\",s4.replace(\"is\",\"was\"))\n",
    "\n",
    "print(\"Replace :\",s4.replace(\"is\",\"was\",1)) #replace with count=1.....i.e. replace only first \"is\" with \"was\".\n",
    "\n",
    "\n",
    "#13) find(value,start,end) :\n",
    "#finds the first occurence of the specified value and returns the index/position...if value not found find() returns -1.\n",
    "\n",
    "print(\"Find :\",s4.find(\"is\"))  #returns startindex of \"is\".\n",
    "\n",
    "print(\"Find with start and end index :\",s4.find(\"is\",5,30))  #find with start and end index.\n",
    "\n",
    "s5 = \"Mango Banana Watermelon\"\n",
    "#14) split(separator,maxsplit) : splits string into a list.\n",
    "#you can also specify the seperator...default seperator = \"whitespace\"\n",
    "# maxsplit: How many splits to do...(default=-1 i.e \"all occurences\")\n",
    "\n",
    "l1 = s5.split(\" \") #splits at whitespaces and create list.\n",
    "print(\"List from string using split :\",l1)\n",
    "\n",
    "s6 = \"Football+Cricket+Tennis\"\n",
    "l2= s6.split(\"+\")  #split at \"+\" and create new list.\n",
    "print(\"List form string using split:\",l2)\n",
    "\n",
    "#15) join() : takes all items in an iterables and joins them into the string..... (opposite of split).\n",
    "\n",
    "l3 = [\"apple\",\"mango\",\"grapes\"]\n",
    "s7 = \" \".join(l3)             #\" \" seperator should be specified.\n",
    "print(\"String from list using join metod :\",s7)  #forms string seperated by comma.\n",
    "\n",
    "#16) isalnum() : returns True if all the characters in the string are alphanumeric,alphabet letters(a-z) and numbers(0-9).\n",
    "s8 = \"jawad123@gmail.com\"\n",
    "print(\"Isalnum :\",s8.isalnum())"
   ]
  },
  {
   "cell_type": "markdown",
   "metadata": {},
   "source": [
    "## Question 3:"
   ]
  },
  {
   "cell_type": "code",
   "execution_count": 81,
   "metadata": {},
   "outputs": [
    {
     "name": "stdout",
     "output_type": "stream",
     "text": [
      "Please select the below options:\n",
      " 1.Palindrome\n",
      " 2.Anagram\n",
      " 3.Exit\n",
      "1\n",
      "Enter a string:\"MADAM\"\n",
      "Given string is a palindrome\n",
      "Please select the below options:\n",
      " 1.Palindrome\n",
      " 2.Anagram\n",
      " 3.Exit\n",
      "2\n",
      "Enter String1:\"HEART\"\n",
      "Enter String2:\"EARTH\"\n",
      "The given two strings are anagram\n",
      "Please select the below options:\n",
      " 1.Palindrome\n",
      " 2.Anagram\n",
      " 3.Exit\n",
      "3\n",
      "Thankyou!!!\n"
     ]
    }
   ],
   "source": [
    "def palindrome(s1):\n",
    "    s1 = input(\"Enter a string:\")\n",
    "    s1.lower()\n",
    "    if s1==s1[::-1]:\n",
    "        print(\"Given string is a palindrome\")\n",
    "    else:\n",
    "        print(\"Given string is not a palindrome\")\n",
    "\n",
    "def anagram(s2,s3):\n",
    "    s2 = input(\"Enter String1:\")\n",
    "    s3 = input(\"Enter String2:\")\n",
    "    \n",
    "    sorted_s2 = sorted(s2.lower())\n",
    "    sorted_s3 = sorted(s3.lower())\n",
    "    if len(sorted_s2)==len(sorted_s3):\n",
    "        if (sorted_s2==sorted_s3):\n",
    "            print(\"The given two strings are anagram\")\n",
    "        else:\n",
    "            print(\"The given two strings are not anagram\")\n",
    "    else:\n",
    "        print(\"The given two strings are not anagram.\")\n",
    "\n",
    "while (True): # Infinite loop which will keep on running untill the user exit from the program.\n",
    "    print(\"Please select the below options:\\n\",\"1.Palindrome\\n\",\"2.Anagram\\n\",\"3.Exit\")\n",
    "    n = int(input())\n",
    "    if n==1:\n",
    "        palindrome(s1)\n",
    "    elif n==2:\n",
    "        anagram(s2,s3)\n",
    "        \n",
    "    else:\n",
    "        print(\"Thankyou!!!\")\n",
    "        break"
   ]
  },
  {
   "cell_type": "markdown",
   "metadata": {},
   "source": [
    "## Question 4:"
   ]
  },
  {
   "cell_type": "code",
   "execution_count": 76,
   "metadata": {},
   "outputs": [
    {
     "name": "stdout",
     "output_type": "stream",
     "text": [
      "Enter a string writh special characters:\"Dr. Darshan Ingle @AI-ML Trainer\"\n",
      "New string after removing all characters : drdarshaningleaimltrainer\n"
     ]
    }
   ],
   "source": [
    "# Remove all additional/special characters from string and convert it into lowercase using lower():\n",
    "# With help of user defined function:\n",
    "\n",
    "def char(s):\n",
    "    s=s.lower()  # converting into lowercase.\n",
    "    newstr=\"\"    # define variable for storing new string after removal of special charactes.\n",
    "    \n",
    "#isalnum() method returns True if all the characters are alphanumeric,meaning alphabet letter (a-z) and numbers (0-9).\n",
    "    for i in s:     # loop because we have to iterate through each character.\n",
    "        if i.isalnum():  \n",
    "            newstr=newstr+i       #concatenate.\n",
    "    print(\"New string after removing all characters :\",newstr)  #printing the new string.\n",
    "  \n",
    "\n",
    "s = input(\"Enter a string writh special characters:\")\n",
    "char(s)"
   ]
  }
 ],
 "metadata": {
  "kernelspec": {
   "display_name": "Python 3",
   "language": "python",
   "name": "python3"
  },
  "language_info": {
   "codemirror_mode": {
    "name": "ipython",
    "version": 3
   },
   "file_extension": ".py",
   "mimetype": "text/x-python",
   "name": "python",
   "nbconvert_exporter": "python",
   "pygments_lexer": "ipython3",
   "version": "3.8.3"
  }
 },
 "nbformat": 4,
 "nbformat_minor": 4
}
