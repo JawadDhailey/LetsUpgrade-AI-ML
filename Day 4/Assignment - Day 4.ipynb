{
 "cells": [
  {
   "cell_type": "markdown",
   "metadata": {},
   "source": [
    "## Question 1:\n",
    "\n",
    "1. The floor division and modulo operations cannot be performed on complex number in Python 3.x.\n",
    "2. It is evident from below examples,such operations generate TypeError.\n"
   ]
  },
  {
   "cell_type": "code",
   "execution_count": 10,
   "metadata": {},
   "outputs": [
    {
     "ename": "TypeError",
     "evalue": "can't take floor of complex number.",
     "output_type": "error",
     "traceback": [
      "\u001b[1;31m---------------------------------------------------------------------------\u001b[0m",
      "\u001b[1;31mTypeError\u001b[0m                                 Traceback (most recent call last)",
      "\u001b[1;32m<ipython-input-10-47f795bbce04>\u001b[0m in \u001b[0;36m<module>\u001b[1;34m\u001b[0m\n\u001b[0;32m      2\u001b[0m \u001b[0ma\u001b[0m \u001b[1;33m=\u001b[0m \u001b[1;36m5\u001b[0m\u001b[1;33m+\u001b[0m\u001b[1;36m2j\u001b[0m\u001b[1;33m\u001b[0m\u001b[1;33m\u001b[0m\u001b[0m\n\u001b[0;32m      3\u001b[0m \u001b[0mb\u001b[0m \u001b[1;33m=\u001b[0m \u001b[1;36m3\u001b[0m\u001b[1;33m-\u001b[0m\u001b[1;36m7j\u001b[0m\u001b[1;33m\u001b[0m\u001b[1;33m\u001b[0m\u001b[0m\n\u001b[1;32m----> 4\u001b[1;33m \u001b[0mprint\u001b[0m\u001b[1;33m(\u001b[0m\u001b[0ma\u001b[0m\u001b[1;33m//\u001b[0m\u001b[0mb\u001b[0m\u001b[1;33m)\u001b[0m\u001b[1;33m\u001b[0m\u001b[1;33m\u001b[0m\u001b[0m\n\u001b[0m",
      "\u001b[1;31mTypeError\u001b[0m: can't take floor of complex number."
     ]
    }
   ],
   "source": [
    "#Floor Division:\n",
    "a = 5+2j\n",
    "b = 3-7j\n",
    "print(a//b)"
   ]
  },
  {
   "cell_type": "code",
   "execution_count": 11,
   "metadata": {},
   "outputs": [
    {
     "ename": "TypeError",
     "evalue": "can't mod complex numbers.",
     "output_type": "error",
     "traceback": [
      "\u001b[1;31m---------------------------------------------------------------------------\u001b[0m",
      "\u001b[1;31mTypeError\u001b[0m                                 Traceback (most recent call last)",
      "\u001b[1;32m<ipython-input-11-32b392326379>\u001b[0m in \u001b[0;36m<module>\u001b[1;34m\u001b[0m\n\u001b[0;32m      2\u001b[0m \u001b[0ma\u001b[0m \u001b[1;33m=\u001b[0m \u001b[1;36m5\u001b[0m\u001b[1;33m+\u001b[0m\u001b[1;36m2j\u001b[0m\u001b[1;33m\u001b[0m\u001b[1;33m\u001b[0m\u001b[0m\n\u001b[0;32m      3\u001b[0m \u001b[0mb\u001b[0m \u001b[1;33m=\u001b[0m \u001b[1;36m3\u001b[0m\u001b[1;33m-\u001b[0m\u001b[1;36m7j\u001b[0m\u001b[1;33m\u001b[0m\u001b[1;33m\u001b[0m\u001b[0m\n\u001b[1;32m----> 4\u001b[1;33m \u001b[0mprint\u001b[0m\u001b[1;33m(\u001b[0m\u001b[0ma\u001b[0m\u001b[1;33m%\u001b[0m\u001b[0mb\u001b[0m\u001b[1;33m)\u001b[0m\u001b[1;33m\u001b[0m\u001b[1;33m\u001b[0m\u001b[0m\n\u001b[0m",
      "\u001b[1;31mTypeError\u001b[0m: can't mod complex numbers."
     ]
    }
   ],
   "source": [
    "#Modulo:\n",
    "a = 5+2j\n",
    "b = 3-7j\n",
    "print(a%b)"
   ]
  },
  {
   "cell_type": "code",
   "execution_count": 13,
   "metadata": {},
   "outputs": [
    {
     "name": "stdout",
     "output_type": "stream",
     "text": [
      "Addition of two complex numbers is: (8-5j)\n",
      "Subtraction of two complex numbers is: (2+9j)\n",
      "Multiplication of two complex number is: (29-29j)\n",
      "Division of two complex number is: (0.01724137931034482+0.706896551724138j)\n"
     ]
    }
   ],
   "source": [
    "#Below arithmetic operations can be performed.\n",
    "a = 5+2j\n",
    "b = 3-7j\n",
    "\n",
    "# Addition:\n",
    "c = a+b\n",
    "print(\"Addition of two complex numbers is:\",c)\n",
    "\n",
    "#Subtraction:\n",
    "d = a-b\n",
    "print(\"Subtraction of two complex numbers is:\",d)\n",
    "\n",
    "#Multiplication:\n",
    "e = a*b\n",
    "print(\"Multiplication of two complex number is:\",e)\n",
    "\n",
    "#Division:\n",
    "f= a/b\n",
    "print(\"Division of two complex number is:\",f)"
   ]
  },
  {
   "cell_type": "markdown",
   "metadata": {},
   "source": [
    "## Question 2:"
   ]
  },
  {
   "cell_type": "markdown",
   "metadata": {},
   "source": [
    "### Range() Functions:\n",
    "\n",
    "1. range() is in-built function in python,like we have the print() function.\n",
    "2. range() is used to generate sequence of numbers.\n",
    "3. Syntax : range(start,stop,step)\n",
    "4. It accepts three parameter:\n",
    "\n",
    "   start:integer number which specifies where to start.(Default value=0)\n",
    "   \n",
    "   stop: integer number which specifies where to stop. (range() ends at (n-1)..n=stop number)\n",
    "   \n",
    "   step:integer number which species how much to increment the number.(Default increment=1)\n",
    "   \n",
    "   \n",
    "5. commonly used in looping."
   ]
  },
  {
   "cell_type": "code",
   "execution_count": 1,
   "metadata": {},
   "outputs": [
    {
     "name": "stdout",
     "output_type": "stream",
     "text": [
      "1\n",
      "2\n",
      "3\n",
      "4\n",
      "5\n",
      "6\n",
      "7\n",
      "8\n",
      "9\n",
      "10\n"
     ]
    }
   ],
   "source": [
    "#Example of range():\n",
    "for i in range(1,11):\n",
    "    print(i)\n",
    "    \n",
    "# It print values from 1 to 10\n",
    "# range(start,stop)\n",
    "# start=1\n",
    "# end=11 (because we want to stop at 10.....range ends at (n-1)....(11-1)=10)\n",
    "# Increment value by default = 1, since we have not mentioned it."
   ]
  },
  {
   "cell_type": "markdown",
   "metadata": {},
   "source": [
    "## Question 3:"
   ]
  },
  {
   "cell_type": "code",
   "execution_count": 3,
   "metadata": {},
   "outputs": [
    {
     "name": "stdout",
     "output_type": "stream",
     "text": [
      "Multiplication of num1 and num2 is: 500.0\n"
     ]
    }
   ],
   "source": [
    "num1 = 50.0\n",
    "num2 = 10.0\n",
    "result = num1-num2\n",
    "if result>25:\n",
    "    print(\"Multiplication of num1 and num2 is:\",(num1*num2))\n",
    "else:\n",
    "    print(\"Division of num1 and num2 is:\",(num1/num2))"
   ]
  },
  {
   "cell_type": "markdown",
   "metadata": {},
   "source": [
    "## Question 4:"
   ]
  },
  {
   "cell_type": "code",
   "execution_count": 22,
   "metadata": {},
   "outputs": [
    {
     "name": "stdout",
     "output_type": "stream",
     "text": [
      "result= 98\n",
      "result= 398\n",
      "result= 2498\n",
      "result= 3598\n",
      "result= 8098\n",
      "result= 9998\n"
     ]
    }
   ],
   "source": [
    "l = [10,20,35,45,50,60,75,85,90,100]\n",
    "for i in l:\n",
    "    if i%2==0:\n",
    "        print(\"result=\",((i**2)-2))"
   ]
  },
  {
   "cell_type": "markdown",
   "metadata": {},
   "source": [
    "## Question 5:"
   ]
  },
  {
   "cell_type": "code",
   "execution_count": 26,
   "metadata": {},
   "outputs": [
    {
     "name": "stdout",
     "output_type": "stream",
     "text": [
      "60\n",
      "77\n",
      "100\n",
      "99\n",
      "200\n"
     ]
    }
   ],
   "source": [
    "l1 = [1,3,5,7,60,77,100,99,200]\n",
    "for i in l1:\n",
    "    if i/2:\n",
    "        if i>7:\n",
    "            print(i)"
   ]
  }
 ],
 "metadata": {
  "kernelspec": {
   "display_name": "Python 3",
   "language": "python",
   "name": "python3"
  },
  "language_info": {
   "codemirror_mode": {
    "name": "ipython",
    "version": 3
   },
   "file_extension": ".py",
   "mimetype": "text/x-python",
   "name": "python",
   "nbconvert_exporter": "python",
   "pygments_lexer": "ipython3",
   "version": "3.8.3"
  }
 },
 "nbformat": 4,
 "nbformat_minor": 4
}
